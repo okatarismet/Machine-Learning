{
 "cells": [
  {
   "cell_type": "markdown",
   "metadata": {},
   "source": [
    "# Part I: Theory Questions"
   ]
  },
  {
   "cell_type": "markdown",
   "metadata": {},
   "source": [
    "## k-Nearest Neighbor Classification"
   ]
  },
  {
   "cell_type": "markdown",
   "metadata": {},
   "source": [
    "### Question 1:"
   ]
  },
  {
   "cell_type": "markdown",
   "metadata": {},
   "source": [
    "#### 1. Assume that you have a large training dataset. Specify a disadvantage of the kNearest Neighbor method when using it during testing. State also your reason about your answer."
   ]
  },
  {
   "cell_type": "markdown",
   "metadata": {},
   "source": [
    "At Instance-based learning there is not actually a training process therefore testing is really expensive. The cost depends on the training data linearly because it has to find the distance between every data point."
   ]
  },
  {
   "cell_type": "markdown",
   "metadata": {},
   "source": [
    "#### 2. Create a 1-Dimensional classification dataset in which the 1-Nearest Neighbors method always gives a leave-one out cross validation error value of 1 (In other words, the method can’t guess correct class for a specific point in the dataset ). State also a proper explanation about your reasoning.\n"
   ]
  },
  {
   "cell_type": "markdown",
   "metadata": {},
   "source": [
    "?????\n"
   ]
  },
  {
   "cell_type": "markdown",
   "metadata": {},
   "source": [
    "#### 3. Assume that you have the following training set of positive (+), negative (-) instances and a single test instance (o) in the figure below (Figure 1). Assume also that the Euclidean metric is used for measuring the distance between instances. Finally consider that every nearest neighbor instance affects the final vote equally\n"
   ]
  },
  {
   "cell_type": "markdown",
   "metadata": {},
   "source": [
    "Euclidian distance : dist((x, y), (a, b)) = √(x - a)² + (y - b)²\n",
    "\n",
    "For K=1 { negative }\n",
    "For K=3 { negative }\n",
    "For K=5 { positive }"
   ]
  },
  {
   "cell_type": "markdown",
   "metadata": {},
   "source": [
    "#### 4. Fill the blanks with T (True) or F (False) for the statements below:"
   ]
  },
  {
   "cell_type": "markdown",
   "metadata": {},
   "source": [
    "T\n",
    "T\n",
    "T"
   ]
  },
  {
   "cell_type": "markdown",
   "metadata": {},
   "source": [
    "## Lineer Regression\n"
   ]
  },
  {
   "cell_type": "markdown",
   "metadata": {},
   "source": [
    "### Answer 1:"
   ]
  },
  {
   "cell_type": "markdown",
   "metadata": {},
   "source": [
    "Since , normalized x=(x−u)/s\n",
    "where\n",
    "\n",
    "u = mean of the feature x,\n",
    "s = range(max−min) or standard deviation\n",
    "\n",
    "#### 92-45 = 47 = s\n",
    "####  u = 71\n",
    "#### x(2) = (70-71)/47\n",
    "#### = -0.0212"
   ]
  },
  {
   "cell_type": "markdown",
   "metadata": {},
   "source": [
    "### Answer 2:\n"
   ]
  },
  {
   "attachments": {
    "4e7cf150-0179-4d89-86f2-5cbb1f51c266_meansquarederrorformula.png": {
     "image/png": "[encoded data removed]"
    }
   },
   "cell_type": "markdown",
   "metadata": {},
   "source": [
    "#### vertical offsets.\n",
    "![4e7cf150-0179-4d89-86f2-5cbb1f51c266_meansquarederrorformula.png](attachment:4e7cf150-0179-4d89-86f2-5cbb1f51c266_meansquarederrorformula.png)\n",
    "\n",
    "Because we use  Y axis which is dependent "
   ]
  },
  {
   "cell_type": "markdown",
   "metadata": {},
   "source": [
    "# PART II:Movie Recommendation System"
   ]
  },
  {
   "cell_type": "markdown",
   "metadata": {},
   "source": [
    "In this assignment, we have implement a nearest neighbor algorithm to recommend movies to\n",
    "viewers best suited to their tastes and traits. We have implemented a Knn algorihtm to find sets of similiar users based on common movie ratings, and make predictions using the average rating of the top-k nearest neighbours.\n",
    "\n",
    "It is provided with a movie ratings dataset of 100.000 ratings of 9.000 movies by\n",
    "600 users. The ratings are on a scale between 0 to 5. Our algorithm will try to make\n",
    "predictions using the average rating of top-k nearest neighbors."
   ]
  },
  {
   "cell_type": "markdown",
   "metadata": {},
   "source": [
    "### Collaborative Filtering\n",
    "\n",
    "Collaborative filtering based systems collect and analyze users’ behavioral information in\n",
    "the form of their feedback, ratings, preferences and activities. Based on this information,\n",
    "these systems then exploit similarities amongst several users/ items to predict missing\n",
    "ratings and hence make suitable recommendations. They can discover and learn features\n",
    "on its own without the need of explicit features to profile items or users. Types of\n",
    "collaborative filtering are usually grouped into two as:\n",
    "\n",
    "• User-based collaborative filtering\n",
    "\n",
    "• Item-based collaborative filtering\n",
    "\n",
    "A dataset is provided for your training phase in the Piazza. The validation set will be\n",
    "provided later and announced from Piazza group. Since validation set will be provided\n",
    "later, you should use a subset of the training set to test the performance of your model.\n",
    "In other words, you should split your training dataset into two : the training set which\n",
    "will be used to learn model and the test set which will be used to measure the success\n",
    "of your model. You can use k-fold cross-validation method which is explained in the\n",
    "class. You should also state your details about each model’s accuracy, model\n",
    "accuracies with respect to different k parameters you chosen and how you\n",
    "choose the final accuracy in your report.\n",
    "\n",
    "### Dataset\n",
    "\n",
    "MovieLens is a movie rating dataset compiled by GroupLens Resource Team [1]. As\n",
    "mentioned before, you have given the small version of the dataset which contains 100.000\n",
    "ratings of 9.000 movies by 600 users. The ratings are on a scale from 0 to 5.\n",
    "\n",
    "• The dataset consists of four tables: ratings, movies, links and tags info.\n",
    "\n",
    "• The ratings data set provides a list of ratings that users have given to books. It\n",
    "includes 100.837 records and 4 fields: ”userId”, ”movieId”, ”rating”, ”timestamp”.\n",
    "\n",
    "• The movies dataset provides movie details. It includes 9.743 records and 3 fields:\n",
    "”movieId”, ”title” and ”genres”.\n",
    "\n",
    "• The links dataset provides id details. It includes 9.743 records and 3 fields:\n",
    "”movieId”, ”imdbId” and ”tmdbId”.\n",
    "\n",
    "• The tags dataset provides tag details. It includes 3.684 records and 4 fields:\n",
    "”userId”, ”movieId”, ”tag” and ”timestamp”."
   ]
  },
  {
   "cell_type": "markdown",
   "metadata": {},
   "source": [
    "## Data Types\n",
    "\n",
    "### original\n",
    "\n",
    "It stores the original ratings rather then the correlations. I use this to acces the original ratings for calculating the prediction\n",
    "\n",
    "### df\n",
    "\n",
    "It stores the correlations. I use this to  calculate the N similiar Neighbours\n",
    "\n",
    "### ratingWithMinus\n",
    "\n",
    "It stores the userIds and the movieIds which we have to predict.\n",
    "\n",
    "### the\n",
    "\n",
    "It is the np array version of the df\n",
    "\n",
    "## Test, Train Split\n",
    "\n",
    "I used %10 as test and %90 as train\n",
    "\n",
    "## Distance Metric\n",
    "\n",
    "I dont know why but cosine similarity gave really bad results in my data. Therefore I decided to use Euclidian Distance\n",
    "\n",
    "#### I used the correlation of the users ratings, instead of actual users ratings by making a bit research."
   ]
  },
  {
   "cell_type": "code",
   "execution_count": 1,
   "metadata": {},
   "outputs": [
    {
     "name": "stdout",
     "output_type": "stream",
     "text": [
      "       userId  movieId  rating   timestamp\n",
      "25109     279     1258     5.0  1506394412\n",
      "252         2    91658     2.5  1445714938\n",
      "3901       50     1291     3.0  1527371937\n",
      "18394     199      307     2.0   940372513\n",
      "63707     597     1747     4.0   941559248\n",
      "...       ...      ...     ...         ...\n",
      "47225     448   114935     4.0  1460142912\n",
      "20829     224     3361     4.0   971811933\n",
      "37895     382   111360     3.5  1515250006\n",
      "21293     226     6025     4.0  1096419853\n",
      "28505     298    61255     1.5  1466277779\n",
      "\n",
      "[7112 rows x 4 columns]\n",
      "----\n",
      "df\n",
      "----\n",
      "movieId    1         2         3         4         5         6         7       \\\n",
      "userId                                                                          \n",
      "1       -0.368182 -0.091106 -0.368182 -0.716032 -0.578121 -0.368182 -0.447662   \n",
      "2        0.314537 -0.091106 -0.293662 -0.716032 -0.578121  0.370858 -0.447662   \n",
      "3        0.314537 -0.091106 -0.293662 -0.716032 -0.578121  0.370858 -0.447662   \n",
      "5        0.256410 -0.091106 -0.293662 -0.716032 -0.578121  0.370858 -0.447662   \n",
      "6        0.314537 -0.091106  1.487633 -0.512367  1.487633  0.487633  0.487633   \n",
      "...           ...       ...       ...       ...       ...       ...       ...   \n",
      "605      0.786432  0.286432 -0.293662 -0.716032 -0.578121  0.370858 -0.447662   \n",
      "606     -1.158184 -0.091106 -0.293662 -0.716032 -0.578121  0.370858 -1.158184   \n",
      "607      0.191617 -0.091106 -0.293662 -0.716032 -0.578121  0.370858 -0.447662   \n",
      "608     -0.599196 -1.099196 -1.099196 -0.716032 -0.578121  0.370858 -0.447662   \n",
      "610      1.306271 -0.091106 -0.293662 -0.716032 -0.578121  1.306271 -0.447662   \n",
      "\n",
      "movieId    8         9         10      ...    193565    193567    193571  \\\n",
      "userId                                 ...                                 \n",
      "1       -0.754568 -0.596576 -0.050795  ... -0.159836 -0.659836  0.340164   \n",
      "2       -0.754568 -0.596576 -0.050795  ... -0.159836 -0.659836  0.340164   \n",
      "3       -0.754568 -0.596576 -0.050795  ... -0.159836 -0.659836  0.340164   \n",
      "5       -0.754568 -0.596576 -0.050795  ... -0.159836 -0.659836  0.340164   \n",
      "6       -0.512367 -0.596576 -0.512367  ... -0.159836 -0.659836  0.340164   \n",
      "...           ...       ...       ...  ...       ...       ...       ...   \n",
      "605     -0.754568 -0.596576 -0.050795  ... -0.159836 -0.659836  0.340164   \n",
      "606     -0.754568 -0.596576 -0.050795  ... -0.159836 -0.659836  0.340164   \n",
      "607     -0.754568 -0.596576 -0.050795  ... -0.159836 -0.659836  0.340164   \n",
      "608     -0.754568 -0.596576  0.900804  ... -0.159836 -0.659836  0.340164   \n",
      "610     -0.754568 -0.596576 -0.050795  ... -0.159836 -0.659836  0.340164   \n",
      "\n",
      "movieId    193573    193579    193581    193583    193585    193587    193609  \n",
      "userId                                                                         \n",
      "1        0.340164 -0.159836  0.340164 -0.159836 -0.159836 -0.159836  0.366013  \n",
      "2        0.340164 -0.159836  0.340164 -0.159836 -0.159836 -0.159836  0.366013  \n",
      "3        0.340164 -0.159836  0.340164 -0.159836 -0.159836 -0.159836  0.366013  \n",
      "5        0.340164 -0.159836  0.340164 -0.159836 -0.159836 -0.159836  0.366013  \n",
      "6        0.340164 -0.159836  0.340164 -0.159836 -0.159836 -0.159836  0.366013  \n",
      "...           ...       ...       ...       ...       ...       ...       ...  \n",
      "605      0.340164 -0.159836  0.340164 -0.159836 -0.159836 -0.159836  0.366013  \n",
      "606      0.340164 -0.159836  0.340164 -0.159836 -0.159836 -0.159836  0.366013  \n",
      "607      0.340164 -0.159836  0.340164 -0.159836 -0.159836 -0.159836  0.366013  \n",
      "608      0.340164 -0.159836  0.340164 -0.159836 -0.159836 -0.159836  0.366013  \n",
      "610      0.340164 -0.159836  0.340164 -0.159836 -0.159836 -0.159836  0.366013  \n",
      "\n",
      "[427 rows x 8557 columns]\n",
      "----\n",
      "original\n",
      "----\n",
      "movieId    1         2        3       4        5         6        7       \\\n",
      "userId                                                                     \n",
      "1        4.000000  3.366667  4.00000     3.0  3.03125  4.000000  3.16129   \n",
      "2        3.921642  3.366667  3.24359     3.0  3.03125  3.983607  3.16129   \n",
      "3        3.921642  3.366667  3.24359     3.0  3.03125  3.983607  3.16129   \n",
      "5        4.000000  3.366667  3.24359     3.0  3.03125  3.983607  3.16129   \n",
      "6        3.921642  3.366667  5.00000     3.0  5.00000  4.000000  4.00000   \n",
      "...           ...       ...      ...     ...      ...       ...      ...   \n",
      "605      4.000000  3.500000  3.24359     3.0  3.03125  3.983607  3.16129   \n",
      "606      2.500000  3.366667  3.24359     3.0  3.03125  3.983607  2.50000   \n",
      "607      4.000000  3.366667  3.24359     3.0  3.03125  3.983607  3.16129   \n",
      "608      2.500000  2.000000  2.00000     3.0  3.03125  3.983607  3.16129   \n",
      "610      5.000000  3.366667  3.24359     3.0  3.03125  5.000000  3.16129   \n",
      "\n",
      "movieId  8       9        10      ...  193565  193567  193571  193573  193579  \\\n",
      "userId                            ...                                           \n",
      "1           3.0     3.0  3.53125  ...     3.5     3.0     4.0     4.0     3.5   \n",
      "2           3.0     3.0  3.53125  ...     3.5     3.0     4.0     4.0     3.5   \n",
      "3           3.0     3.0  3.53125  ...     3.5     3.0     4.0     4.0     3.5   \n",
      "5           3.0     3.0  3.53125  ...     3.5     3.0     4.0     4.0     3.5   \n",
      "6           3.0     3.0  3.00000  ...     3.5     3.0     4.0     4.0     3.5   \n",
      "...         ...     ...      ...  ...     ...     ...     ...     ...     ...   \n",
      "605         3.0     3.0  3.53125  ...     3.5     3.0     4.0     4.0     3.5   \n",
      "606         3.0     3.0  3.53125  ...     3.5     3.0     4.0     4.0     3.5   \n",
      "607         3.0     3.0  3.53125  ...     3.5     3.0     4.0     4.0     3.5   \n",
      "608         3.0     3.0  4.00000  ...     3.5     3.0     4.0     4.0     3.5   \n",
      "610         3.0     3.0  3.53125  ...     3.5     3.0     4.0     4.0     3.5   \n",
      "\n",
      "movieId  193581  193583  193585  193587  193609  \n",
      "userId                                           \n",
      "1           4.0     3.5     3.5     3.5     4.0  \n",
      "2           4.0     3.5     3.5     3.5     4.0  \n",
      "3           4.0     3.5     3.5     3.5     4.0  \n",
      "5           4.0     3.5     3.5     3.5     4.0  \n",
      "6           4.0     3.5     3.5     3.5     4.0  \n",
      "...         ...     ...     ...     ...     ...  \n",
      "605         4.0     3.5     3.5     3.5     4.0  \n",
      "606         4.0     3.5     3.5     3.5     4.0  \n",
      "607         4.0     3.5     3.5     3.5     4.0  \n",
      "608         4.0     3.5     3.5     3.5     4.0  \n",
      "610         4.0     3.5     3.5     3.5     4.0  \n",
      "\n",
      "[427 rows x 8557 columns]\n"
     ]
    }
   ],
   "source": [
    "import pandas as pd \n",
    "import numpy as np\n",
    "\n",
    "from scipy import spatial\n",
    "from collections import OrderedDict\n",
    "from sklearn.metrics import mean_absolute_error\n",
    "\n",
    "df = pd.read_csv('ratings_train.csv')\n",
    "dfsample = df.sample(frac=0.1)\n",
    "Yrating = dfsample['rating'].values\n",
    "YmovId = dfsample['movieId'].values\n",
    "YuserId = dfsample['userId'].values\n",
    "\n",
    "df = df.drop(dfsample.index) \n",
    "print(dfsample)\n",
    "\n",
    "Ratings = df\n",
    "original = df\n",
    "#I used the correlation of the users ratings, instead of actual users ratings by making a bit research.\n",
    "Mean = Ratings.groupby(by=\"userId\",as_index=False)['rating'].mean()\n",
    "Rating_avg = pd.merge(Ratings,Mean,on='userId')\n",
    "Rating_avg['corr']=Rating_avg['rating_x']-Rating_avg['rating_y']\n",
    "\n",
    "#Filling the userIdList and movieIdList for get0 and met0 methods\n",
    "df.sort_values(by=['userId'])\n",
    "userIdList = list(OrderedDict.fromkeys(df['userId'].tolist()))\n",
    "gf = df\n",
    "gf.sort_values(by=['movieId'])\n",
    "movieIdList = list(set(gf['movieId'].tolist()))\n",
    "movieIdList.sort()\n",
    "\n",
    "original.sort_values(by=['userId'])\n",
    "\n",
    "df = pd.pivot_table(Rating_avg,values='corr',index='userId',columns='movieId')\n",
    "original = pd.pivot_table(original,values='rating',index='userId',columns='movieId')\n",
    "\n",
    "# Filling the NaN values by using averages.\n",
    "df = df.fillna(df.mean(axis=0))\n",
    "print(\"----\\ndf\\n----\")\n",
    "print(df)\n",
    "original = original.fillna(original.mean(axis=0))\n",
    "print(\"----\\noriginal\\n----\")\n",
    "print(original)\n",
    "\n",
    "thelist = df.values.tolist()\n",
    "the = np.array(thelist)\n",
    "original = np.array(original.values.tolist())\n",
    "\n"
   ]
  },
  {
   "cell_type": "markdown",
   "metadata": {},
   "source": [
    "##### get0 and met0 methods\n",
    "get0 and met0 funtions are used to acces the right location in the list. For example I acces items in linear form like [0,1,2,3,4,5,6] but the ids are not sequential. They go like [4,7,11,14,18,21] if i call get0(7) it returns 1, the actual location of that index."
   ]
  },
  {
   "cell_type": "code",
   "execution_count": 2,
   "metadata": {},
   "outputs": [],
   "source": [
    "def get0(userId):\n",
    "    try:\n",
    "        return userIdList.index(userId)\n",
    "    except ValueError:\n",
    "        return  0\n",
    "def met0(movieId):\n",
    "    try:\n",
    "        return  movieIdList.index(movieId)\n",
    "    except ValueError:\n",
    "        return  0"
   ]
  },
  {
   "cell_type": "markdown",
   "metadata": {},
   "source": [
    "#### similiarity\n",
    "It calculates the euclidian distance between all users and the given user. It sortes the index and returns first N of them.\n",
    "#### find\n",
    "It calculates the rate by getting the weighted average of the N nearest users rate on that movie."
   ]
  },
  {
   "cell_type": "code",
   "execution_count": 3,
   "metadata": {},
   "outputs": [],
   "source": [
    "def similarity(userId,N):\n",
    "    simList = [0]*(the.shape[0])\n",
    "    for i in range(the.shape[0]):\n",
    "        simList[i] = spatial.distance.euclidean(the[get0(userId)],the[i]) \n",
    "    NsimilarByIndex = np.argsort(simList)\n",
    "    return NsimilarByIndex[0:N]\n",
    "\n",
    "def find(userId,movieId,N):\n",
    "    rate = 0.0\n",
    "    thex = similarity(userId,N) \n",
    "    W = len(thex)\n",
    "    sumOfAllW = W*(W+1)/2\n",
    "    for i in thex:\n",
    "       rate += original[i][met0(movieId)]*W\n",
    "       W -= 1\n",
    "    rate /= sumOfAllW\n",
    "    return rate"
   ]
  },
  {
   "cell_type": "markdown",
   "metadata": {},
   "source": []
  },
  {
   "cell_type": "code",
   "execution_count": 4,
   "metadata": {},
   "outputs": [],
   "source": [
    "def KNN(N):\n",
    "    rateList = dfsample.values.tolist()\n",
    "    Ypredicted = [0]*len(rateList)\n",
    "    count = 0\n",
    "    for i in rateList:\n",
    "        Ypredicted[count] = find(int(i[0]),int(i[1]),N)\n",
    "        count +=1\n",
    "#     print(Ypredicted[35:45])\n",
    "    return mean_absolute_error(Yrating, Ypredicted)"
   ]
  },
  {
   "cell_type": "code",
   "execution_count": 5,
   "metadata": {},
   "outputs": [
    {
     "name": "stdout",
     "output_type": "stream",
     "text": [
      "0.780189352376113\n"
     ]
    }
   ],
   "source": [
    "print(KNN(1))\n"
   ]
  },
  {
   "cell_type": "code",
   "execution_count": 6,
   "metadata": {},
   "outputs": [
    {
     "name": "stdout",
     "output_type": "stream",
     "text": [
      "0.7783119798278626\n"
     ]
    }
   ],
   "source": [
    "print(KNN(5))"
   ]
  },
  {
   "cell_type": "code",
   "execution_count": 7,
   "metadata": {},
   "outputs": [
    {
     "name": "stdout",
     "output_type": "stream",
     "text": [
      "0.7783239022313048\n"
     ]
    }
   ],
   "source": [
    "print(KNN(15))"
   ]
  },
  {
   "cell_type": "code",
   "execution_count": 8,
   "metadata": {},
   "outputs": [
    {
     "name": "stdout",
     "output_type": "stream",
     "text": [
      "0.7783001977520693\n"
     ]
    }
   ],
   "source": [
    "print(KNN(25))"
   ]
  },
  {
   "cell_type": "code",
   "execution_count": null,
   "metadata": {},
   "outputs": [],
   "source": [
    "print(KNN(50))"
   ]
  },
  {
   "cell_type": "code",
   "execution_count": null,
   "metadata": {},
   "outputs": [],
   "source": [
    "print(KNN(100))"
   ]
  },
  {
   "cell_type": "markdown",
   "metadata": {},
   "source": [
    "### Conclusion\n",
    "\n",
    "My Algorithm gave the best result in 100-Nearest Reighbours which is 0.7810381476726521\n",
    "In that assignment I learned a lot about Collaborative filtering methods."
   ]
  },
  {
   "cell_type": "markdown",
   "metadata": {},
   "source": [
    "##                          $$\\\\Ismet\\\\OKATAR\\\\21727542$$"
   ]
  }
 ],
 "metadata": {
  "celltoolbar": "Raw Cell Format",
  "kernelspec": {
   "display_name": "Python 3",
   "language": "python",
   "name": "python3"
  },
  "language_info": {
   "codemirror_mode": {
    "name": "ipython",
    "version": 3
   },
   "file_extension": ".py",
   "mimetype": "text/x-python",
   "name": "python",
   "nbconvert_exporter": "python",
   "pygments_lexer": "ipython3",
   "version": "3.7.0"
  }
 },
 "nbformat": 4,
 "nbformat_minor": 2
}
